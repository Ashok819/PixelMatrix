{
 "cells": [
  {
   "cell_type": "code",
   "execution_count": 32,
   "id": "e7994ffb-f6d5-4bde-b9bc-741541bb1a6b",
   "metadata": {},
   "outputs": [],
   "source": [
    "import gradio as gr\n",
    "import sqlite3\n",
    "import numpy as np\n",
    "from PIL import Image\n",
    "import io\n",
    "import uuid\n",
    "import cv2"
   ]
  },
  {
   "cell_type": "code",
   "execution_count": 34,
   "id": "5aeb7049-d0b2-45ff-883a-333fc3a0ec56",
   "metadata": {},
   "outputs": [],
   "source": [
    "# Initialize Database\n",
    "DATABASE = 'Ashok_database.db'"
   ]
  },
  {
   "cell_type": "code",
   "execution_count": 36,
   "id": "ab5b348a-8a53-48d9-bef8-ec2417258235",
   "metadata": {},
   "outputs": [
    {
     "name": "stdout",
     "output_type": "stream",
     "text": [
      "Database initialized.\n"
     ]
    }
   ],
   "source": [
    "def init_db():\n",
    "    with sqlite3.connect(DATABASE) as conn:\n",
    "        conn.execute('''CREATE TABLE IF NOT EXISTS images\n",
    "                        (id TEXT PRIMARY KEY, image_blob BLOB)''')\n",
    "    print(\"Database initialized.\")\n",
    "\n",
    "init_db()\n"
   ]
  },
  {
   "cell_type": "code",
   "execution_count": 38,
   "id": "8f663738-aa21-49ef-b1e2-38d09e5f6d52",
   "metadata": {},
   "outputs": [],
   "source": [
    "# Save image as .jpg in the database\n",
    "def save_image_to_db(image_array, image_id):\n",
    "    # Convert to .jpg format\n",
    "    _, buffer = cv2.imencode('.jpg', image_array)\n",
    "    \n",
    "    # Save to database\n",
    "    with sqlite3.connect(DATABASE) as conn:\n",
    "        conn.execute(\"INSERT INTO images (id, image_blob) VALUES (?, ?)\", \n",
    "                     (image_id, buffer.tobytes()))\n",
    "    print(f\"Image saved with ID: {image_id}\")\n"
   ]
  },
  {
   "cell_type": "code",
   "execution_count": 40,
   "id": "d563ae21-a86f-42e8-9e37-7287c6e8dfcd",
   "metadata": {},
   "outputs": [],
   "source": [
    "# Convert Image to Numbers\n",
    "def convert_image_to_numbers(image):\n",
    "    image = Image.fromarray(image)  # Convert to PIL image\n",
    "    image = image.resize((224, 224))  # Resize for consistency\n",
    "    image_array = np.array(image)  # Convert to NumPy array\n",
    "    np.save(\"image_data.npy\", image_array)  # Save as .npy file\n",
    "    return \"Image converted and saved successfully!\""
   ]
  },
  {
   "cell_type": "code",
   "execution_count": 42,
   "id": "65fc1c80-802f-4e0e-af2e-b3dedc28a937",
   "metadata": {},
   "outputs": [],
   "source": [
    "# Retrieve image from the database\n",
    "def retrieve_image_from_db(image_id):\n",
    "    with sqlite3.connect(DATABASE) as conn:\n",
    "        cursor = conn.execute(\"SELECT image_blob FROM images WHERE id = ?\", (image_id,))\n",
    "        row = cursor.fetchone()\n",
    "        \n",
    "    if row is None:\n",
    "        return None\n",
    "    \n",
    "    # Convert binary data back to NumPy array\n",
    "    image_array = np.frombuffer(row[0], dtype=np.uint8)\n",
    "    \n",
    "    # Decode image array to OpenCV format\n",
    "    image = cv2.imdecode(image_array, cv2.IMREAD_COLOR)\n",
    "    return image\n"
   ]
  },
  {
   "cell_type": "code",
   "execution_count": 44,
   "id": "9e3b17b0-63ba-46d6-99aa-78cfac5a7cf6",
   "metadata": {},
   "outputs": [],
   "source": [
    "# Convert PIL Image to OpenCV (NumPy array)\n",
    "def pil_to_cv2(image):\n",
    "    return cv2.cvtColor(np.array(image), cv2.COLOR_RGB2BGR)"
   ]
  },
  {
   "cell_type": "code",
   "execution_count": 46,
   "id": "599edb46-c12d-466f-9e8f-e16e3d379686",
   "metadata": {},
   "outputs": [],
   "source": [
    "# Convert OpenCV (NumPy array) to PIL Image\n",
    "def cv2_to_pil(image_array):\n",
    "    return Image.fromarray(cv2.cvtColor(image_array, cv2.COLOR_BGR2RGB))"
   ]
  },
  {
   "cell_type": "code",
   "execution_count": null,
   "id": "9894390c-8682-4876-9029-096c71cf1c34",
   "metadata": {},
   "outputs": [],
   "source": []
  },
  {
   "cell_type": "code",
   "execution_count": 49,
   "id": "a650a485-db54-49b2-bd54-42ae2ed53b87",
   "metadata": {},
   "outputs": [],
   "source": [
    "def upload(image):\n",
    "    image_array = pil_to_cv2(image)\n",
    "    image_id = str(uuid.uuid4())\n",
    "    save_image_to_db(image_array, image_id)\n",
    "    return f\"Image successfully uploaded with ID: {image_id}\""
   ]
  },
  {
   "cell_type": "code",
   "execution_count": 51,
   "id": "3a84b2e0-80f6-4d0c-8f15-449f022030a7",
   "metadata": {},
   "outputs": [],
   "source": [
    "# Retrieve function to display image\n",
    "def retrieve(image_id):\n",
    "    image_array = retrieve_image_from_db(image_id)\n",
    "    if image_array is None:\n",
    "        return f\"No image found with ID: {image_id}\", None\n",
    "    retrieved_image = cv2_to_pil(image_array)\n",
    "    return f\"Image successfully retrieved with ID: {image_id}\", retrieved_image"
   ]
  },
  {
   "cell_type": "code",
   "execution_count": 59,
   "id": "dea4e23e-6617-4d27-868e-bb0ff8c10d05",
   "metadata": {},
   "outputs": [
    {
     "name": "stdout",
     "output_type": "stream",
     "text": [
      "* Running on local URL:  http://127.0.0.1:7866\n",
      "* Running on public URL: https://ee9c76da577cd77e8e.gradio.live\n",
      "\n",
      "This share link expires in 72 hours. For free permanent hosting and GPU upgrades, run `gradio deploy` from the terminal in the working directory to deploy to Hugging Face Spaces (https://huggingface.co/spaces)\n"
     ]
    },
    {
     "data": {
      "text/html": [
       "<div><iframe src=\"https://ee9c76da577cd77e8e.gradio.live\" width=\"100%\" height=\"500\" allow=\"autoplay; camera; microphone; clipboard-read; clipboard-write;\" frameborder=\"0\" allowfullscreen></iframe></div>"
      ],
      "text/plain": [
       "<IPython.core.display.HTML object>"
      ]
     },
     "metadata": {},
     "output_type": "display_data"
    },
    {
     "data": {
      "text/plain": []
     },
     "execution_count": 59,
     "metadata": {},
     "output_type": "execute_result"
    }
   ],
   "source": [
    "\n",
    "# Gradio Interfaces\n",
    "upload_interface = gr.Interface(\n",
    "    fn=upload,\n",
    "    inputs=gr.Image(type=\"pil\"),\n",
    "    outputs=\"text\",\n",
    "    title=\"Upload and Save Image as .jpg\",\n",
    "    description=\"Upload an image to save it as .jpg format in the database.\"\n",
    ")\n",
    "\n",
    "retrieve_interface = gr.Interface(\n",
    "    fn=retrieve,\n",
    "    inputs=\"text\",\n",
    "    outputs=[\"text\", \"image\"],\n",
    "    title=\"Retrieve Image from Database\",\n",
    "    description=\"Enter the unique ID to retrieve the saved image from the database.\"\n",
    ")\n",
    "\n",
    "# Combine Interfaces\n",
    "app = gr.TabbedInterface([upload_interface, retrieve_interface], [\"Upload\", \"Retrieve\"])\n",
    "app.launch(share=True)"
   ]
  },
  {
   "cell_type": "code",
   "execution_count": 49,
   "id": "358eeb89-151d-47af-8589-b43d6db9b3c1",
   "metadata": {},
   "outputs": [],
   "source": []
  },
  {
   "cell_type": "code",
   "execution_count": null,
   "id": "59a7277d-58d4-44e3-943f-b55ff05d7dc1",
   "metadata": {},
   "outputs": [],
   "source": []
  }
 ],
 "metadata": {
  "kernelspec": {
   "display_name": "Python 3 (ipykernel)",
   "language": "python",
   "name": "python3"
  },
  "language_info": {
   "codemirror_mode": {
    "name": "ipython",
    "version": 3
   },
   "file_extension": ".py",
   "mimetype": "text/x-python",
   "name": "python",
   "nbconvert_exporter": "python",
   "pygments_lexer": "ipython3",
   "version": "3.12.7"
  }
 },
 "nbformat": 4,
 "nbformat_minor": 5
}
